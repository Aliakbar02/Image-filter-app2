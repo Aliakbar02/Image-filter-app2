{
 "cells": [
  {
   "cell_type": "code",
   "execution_count": 11,
   "metadata": {},
   "outputs": [],
   "source": [
    "import cv2\n",
    "import numpy as np\n",
    "from PIL import Image, ImageFilter\n",
    "\n",
    "def apply_filter(image_path, filter_type):\n",
    "    image = cv2.imread(image_path)\n",
    "    if filter_type == \"grayscale\":\n",
    "        return cv2.cvtColor(image, cv2.COLOR_BGR2GRAY)\n",
    "    elif filter_type == \"blur\":\n",
    "        return cv2.GaussianBlur(image, (15, 15), 0)\n",
    "    elif filter_type == \"edges\":\n",
    "        return cv2.Canny(image, 100, 200)\n",
    "    elif filter_type == \"sharpen\":\n",
    "        pil_image = Image.open(image_path)\n",
    "        return np.array(pil_image.filter(ImageFilter.SHARPEN))\n",
    "    else:\n",
    "        return image\n"
   ]
  },
  {
   "cell_type": "code",
   "execution_count": 12,
   "metadata": {},
   "outputs": [],
   "source": [
    "from flask import Flask, request, render_template, send_file\n",
    "import os\n",
    "import cv2\n",
    "\n",
    "app = Flask(__name__)\n",
    "UPLOAD_FOLDER = \"uploads\"\n",
    "RESULT_FOLDER = \"results\"\n",
    "os.makedirs(UPLOAD_FOLDER, exist_ok=True)\n",
    "os.makedirs(RESULT_FOLDER, exist_ok=True)\n",
    "\n",
    "@app.route(\"/\", methods=[\"GET\", \"POST\"])\n",
    "def index():\n",
    "    if request.method == \"POST\":\n",
    "        if \"image\" not in request.files:\n",
    "            return \"No image uploaded\", 400\n",
    "        image = request.files[\"image\"]\n",
    "        filter_type = request.form.get(\"filter\")\n",
    "        if not filter_type:\n",
    "            return \"No filter selected\", 400\n",
    "\n",
    "        image_path = os.path.join(UPLOAD_FOLDER, image.filename)\n",
    "        result_path = os.path.join(RESULT_FOLDER, \"result_\" + image.filename)\n",
    "        image.save(image_path)\n",
    "\n",
    "        result_image = apply_filter(image_path, filter_type)\n",
    "        cv2.imwrite(result_path, result_image)\n",
    "\n",
    "        return send_file(result_path, mimetype=\"image/jpeg\")\n",
    "\n",
    "    return render_template(\"index.html\")\n"
   ]
  },
  {
   "cell_type": "code",
   "execution_count": 15,
   "metadata": {},
   "outputs": [
    {
     "name": "stdout",
     "output_type": "stream",
     "text": [
      " * Serving Flask app '__main__'\n",
      " * Debug mode: off\n"
     ]
    },
    {
     "name": "stderr",
     "output_type": "stream",
     "text": [
      "WARNING: This is a development server. Do not use it in a production deployment. Use a production WSGI server instead.\n",
      " * Running on http://127.0.0.1:5000\n",
      "Press CTRL+C to quit\n",
      "127.0.0.1 - - [06/Mar/2025 21:53:04] \"GET / HTTP/1.1\" 200 -\n",
      "127.0.0.1 - - [06/Mar/2025 21:53:26] \"GET / HTTP/1.1\" 200 -\n"
     ]
    }
   ],
   "source": [
    "if __name__ == \"__main__\":\n",
    "    app.run(debug=False, use_reloader=False)\n"
   ]
  }
 ],
 "metadata": {
  "kernelspec": {
   "display_name": "Python 3",
   "language": "python",
   "name": "python3"
  },
  "language_info": {
   "codemirror_mode": {
    "name": "ipython",
    "version": 3
   },
   "file_extension": ".py",
   "mimetype": "text/x-python",
   "name": "python",
   "nbconvert_exporter": "python",
   "pygments_lexer": "ipython3",
   "version": "3.12.7"
  }
 },
 "nbformat": 4,
 "nbformat_minor": 2
}
